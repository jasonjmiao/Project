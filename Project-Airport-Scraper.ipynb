{
 "cells": [
  {
   "cell_type": "code",
   "execution_count": 3,
   "metadata": {},
   "outputs": [],
   "source": [
    "import re\n",
    "import csv"
   ]
  },
  {
   "cell_type": "code",
   "execution_count": 4,
   "metadata": {},
   "outputs": [],
   "source": [
    "filename = \"airline.csv\"\n",
    "\n",
    "exceptionsList = [\"CRJ\", \"ATR\", \"USD\", \"FLT\", \"IFE\", \"USD\", \"ERJ\", \"CRJ\", \"EMB\", \"ATR\", \"AND\", \"BUT\", \"FOR\", \"THE\", \"FLT\", \"EUR\"]\n",
    "regexStr = \"\"\n",
    "\n",
    "allAirportCodes_pre=[]\n",
    "allAirportCodes_post=[]\n",
    "\n",
    "fields = []\n",
    "rows = []"
   ]
  },
  {
   "cell_type": "code",
   "execution_count": 5,
   "metadata": {},
   "outputs": [],
   "source": [
    "def readCSV():\n",
    "  newRows = []\n",
    "  global allAirportCodes_post\n",
    "  with open(filename, 'r', encoding='utf-8') as csvfile:\n",
    "      csvreader = csv.reader(csvfile)\n",
    "      fields = next(csvreader)\n",
    "\n",
    "      for row in csvreader:\n",
    "          #index 6 is where str is contained\n",
    "          airCodes = isAirport(row[6])\n",
    "          newRows.append(airCodes)\n",
    "  #sloppy code but works hopefully\n",
    "  uniqueAir = set(allAirportCodes_pre)\n",
    "  allAirportCodes_post = list(uniqueAir)\n",
    "  writeToCSV(newRows)"
   ]
  },
  {
   "cell_type": "code",
   "execution_count": 6,
   "metadata": {},
   "outputs": [],
   "source": [
    "def deconstructAirCode(acronymList):\n",
    "  deconstructed = []\n",
    "  global allAirportCodes_post\n",
    "  for code in allAirportCodes_post:\n",
    "      if code in acronymList:\n",
    "        deconstructed.append(\"1\")\n",
    "      else:\n",
    "        deconstructed.append(\"0\")\n",
    "  return deconstructed"
   ]
  },
  {
   "cell_type": "code",
   "execution_count": 7,
   "metadata": {},
   "outputs": [],
   "source": [
    "def writeToCSV(newRows):\n",
    "  global allAirportCodes_post\n",
    "  with open('airlines_fixed.csv', 'w', newline='') as file:\n",
    "    writer = csv.writer(file)\n",
    "    writer.writerow(allAirportCodes_post)\n",
    "    for row in newRows:\n",
    "      #removes and returns the airport code list at end\n",
    "      airCodeList = deconstructAirCode(row)\n",
    "      writer.writerow(airCodeList)"
   ]
  },
  {
   "cell_type": "code",
   "execution_count": 8,
   "metadata": {},
   "outputs": [],
   "source": [
    "def createRegEx():\n",
    "  global regexStr\n",
    "  for ex in exceptionsList: \n",
    "    toAdd = \"(?!\" + ex + \")\"\n",
    "    regexStr += toAdd\n",
    "  regexStr += \"([A-Z]{3})\"\n",
    "  return regexStr"
   ]
  },
  {
   "cell_type": "code",
   "execution_count": 9,
   "metadata": {},
   "outputs": [],
   "source": [
    "def advancedFilter(tupleVar, str):\n",
    "  start = tupleVar[0]\n",
    "  end = tupleVar[1]\n",
    "  charBefore = str[start - 1: start]\n",
    "  charAfter = str[end : end + 1]\n",
    "  #characters that are allowed to exist before and after the airport code\n",
    "  possibleChars=[\" \", \"/\", \"-\", \".\", \"\", \"(\", \")\", \"[\", \"]\", \"\\\\\"]\n",
    "  if((charBefore in possibleChars) and (charAfter in possibleChars)):\n",
    "    return True\n",
    "  else:\n",
    "    return False"
   ]
  },
  {
   "cell_type": "code",
   "execution_count": 10,
   "metadata": {},
   "outputs": [],
   "source": [
    "def isAirport(str):\n",
    "  global pattern\n",
    "  global allAirportCodes_pre\n",
    "  validList = []\n",
    "  #creates a list of the start and end indices for each Airport code found in the list\n",
    "  indexTuples = [(m.start(0), m.end(0)) for m in re.finditer(pattern, str)]\n",
    "  for tupleVar in indexTuples:\n",
    "    isValid = advancedFilter(tupleVar, str)\n",
    "    if(isValid):\n",
    "      subStr = str[tupleVar[0]:tupleVar[1]]\n",
    "      validList.append(subStr)\n",
    "      #sloppy and redundant but the following line works lol\n",
    "      allAirportCodes_pre.append(subStr)\n",
    "  #get only unique items list\n",
    "  uniqueList = set(validList) \n",
    "  #convert set back to list\n",
    "  finalRowUnique = list(uniqueList)\n",
    "  return finalRowUnique"
   ]
  },
  {
   "cell_type": "code",
   "execution_count": 11,
   "metadata": {},
   "outputs": [],
   "source": [
    "pattern = createRegEx()\n",
    "readCSV()"
   ]
  }
 ],
 "metadata": {
  "kernelspec": {
   "display_name": "Python 3",
   "language": "python",
   "name": "python3"
  },
  "language_info": {
   "codemirror_mode": {
    "name": "ipython",
    "version": 3
   },
   "file_extension": ".py",
   "mimetype": "text/x-python",
   "name": "python",
   "nbconvert_exporter": "python",
   "pygments_lexer": "ipython3",
   "version": "3.6.5"
  }
 },
 "nbformat": 4,
 "nbformat_minor": 2
}
