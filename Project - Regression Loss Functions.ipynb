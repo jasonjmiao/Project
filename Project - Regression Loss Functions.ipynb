{
 "cells": [
  {
   "cell_type": "code",
   "execution_count": 1,
   "metadata": {},
   "outputs": [],
   "source": [
    "using Random\n",
    "Random.seed!(13)\n",
    "\n",
    "using CSV\n",
    "using Plots\n",
    "using DataFrames\n",
    "using Statistics\n",
    "using Missings\n",
    "using Distributions\n",
    "using StatsPlots\n",
    "using LowRankModels, LinearAlgebra"
   ]
  },
  {
   "cell_type": "code",
   "execution_count": 2,
   "metadata": {},
   "outputs": [
    {
     "ename": "ArgumentError",
     "evalue": "ArgumentError: \"airline.csv\" is not a valid file",
     "output_type": "error",
     "traceback": [
      "ArgumentError: \"airline.csv\" is not a valid file",
      "",
      "Stacktrace:",
      " [1] checkvalidsource at C:\\Users\\JJ\\.julia\\packages\\CSV\\t5ipc\\src\\CSV.jl:95 [inlined]",
      " [2] file(::String, ::Int64, ::Bool, ::Int64, ::Nothing, ::Int64, ::Int64, ::Bool, ::Nothing, ::Bool, ::Bool, ::Array{String,1}, ::String, ::Nothing, ::Bool, ::Char, ::Nothing, ::Nothing, ::Char, ::Nothing, ::UInt8, ::Nothing, ::Nothing, ::Nothing, ::Nothing, ::Dict{Int8,Int8}, ::Bool, ::Float64, ::Bool, ::Bool, ::Nothing, ::Bool, ::Bool, ::Nothing) at C:\\Users\\JJ\\.julia\\packages\\CSV\\t5ipc\\src\\CSV.jl:247",
      " [3] Type at C:\\Users\\JJ\\.julia\\packages\\CSV\\t5ipc\\src\\CSV.jl:197 [inlined]",
      " [4] #read#61 at C:\\Users\\JJ\\.julia\\packages\\CSV\\t5ipc\\src\\CSV.jl:830 [inlined]",
      " [5] read(::String) at C:\\Users\\JJ\\.julia\\packages\\CSV\\t5ipc\\src\\CSV.jl:830",
      " [6] top-level scope at In[2]:2"
     ]
    }
   ],
   "source": [
    "include(\"proxgrad.jl\")\n",
    "df = CSV.read(\"airline.csv\")"
   ]
  },
  {
   "cell_type": "code",
   "execution_count": 3,
   "metadata": {},
   "outputs": [
    {
     "ename": "UndefVarError",
     "evalue": "UndefVarError: df not defined",
     "output_type": "error",
     "traceback": [
      "UndefVarError: df not defined",
      "",
      "Stacktrace:",
      " [1] top-level scope at In[3]:1"
     ]
    }
   ],
   "source": [
    "# Organize and display features along with variable type\n",
    "feature_names = names(df)\n",
    "for i in 1:20\n",
    "    println(string(i), \"\\t\", string(feature_names[i]), \"\\t\\t\\t\", string(eltype(df[!, i])))\n",
    "end"
   ]
  },
  {
   "cell_type": "code",
   "execution_count": 4,
   "metadata": {},
   "outputs": [
    {
     "ename": "UndefVarError",
     "evalue": "UndefVarError: df not defined",
     "output_type": "error",
     "traceback": [
      "UndefVarError: df not defined",
      "",
      "Stacktrace:",
      " [1] top-level scope at In[4]:1"
     ]
    }
   ],
   "source": [
    "# Reduce number of datapoints for computation time\n",
    "\n",
    "# Filter data to only consider entries with overall rating\n",
    "df_OR = df[.!(ismissing.(df[!, :overall_rating])), :];\n",
    "\n",
    "df_OR_filtered = df_OR[.!(ismissing.(df_OR[!, :seat_comfort_rating])), :]; \n",
    "data_OR_filtered = df_OR_filtered[.!(ismissing.(df_OR_filtered[!, :cabin_staff_rating])), :];\n",
    "\n",
    "# Now adding food_beverages_rating, inflight_entertainment_rating, and value money rating\n",
    "data_OR_filtered = data_OR_filtered[.!(ismissing.(data_OR_filtered[!, :food_beverages_rating])), :];\n",
    "data_OR_filtered = data_OR_filtered[.!(ismissing.(data_OR_filtered[!, :inflight_entertainment_rating])), :];\n",
    "data_OR_filtered = data_OR_filtered[.!(ismissing.(data_OR_filtered[!, :value_money_rating])), :];\n",
    "\n",
    "train_proportion = 0.8\n",
    "n = size(data_OR_filtered, 1)\n",
    "println(\"Size of dataset: \", string(n))\n",
    "\n",
    "# Put the first ntrain observations in the DataFrame df into the training set, and the rest into the test set\n",
    "ntrain = convert(Int, round(train_proportion*n))\n",
    "println(\"Size of train: \", string(round(train_proportion*n)))\n",
    "println(\"Size of test: \", string(round(n-train_proportion*n)))\n",
    "\n",
    "target = data_OR_filtered[:, :overall_rating]\n",
    "\n",
    "# Filter data for entries with only seat_comfort, cabin_staff\n",
    "# df_OR_filtered = df_OR[.!(ismissing.(df[!, :seat_comfort_rating])), :]; \n",
    "# df_OR_filtered = df_OR[.!(ismissing.(df[!, :cabin_staff_rating])), :]; \n",
    "# data_OR_filtered = df_OR_filtered[:, filter(col -> (col != :overall_rating), feature_names)]\n",
    "\n",
    "# the following variable records the features of examples in the training set\n",
    "train_x = data_OR_filtered[1:ntrain,:]\n",
    "\n",
    "# the following variable records the features of examples in the test set\n",
    "test_x = data_OR_filtered[ntrain+1:end,:]\n",
    "\n",
    "# the following variable records the labels of examples in the training set\n",
    "train_y = target[1:ntrain]\n",
    "train_y = collect(skipmissing(train_y))\n",
    "# the following variable records the labels of examples in the test set\n",
    "test_y = target[ntrain+1:end]\n",
    "test_y = collect(skipmissing(test_y));"
   ]
  },
  {
   "cell_type": "code",
   "execution_count": 5,
   "metadata": {},
   "outputs": [
    {
     "data": {
      "text/plain": [
       "plot_pred_true"
      ]
     },
     "execution_count": 5,
     "metadata": {},
     "output_type": "execute_result"
    }
   ],
   "source": [
    "\"\"\"This function just computes the mean squared error.\"\"\"\n",
    "function MSE(y, pred)\n",
    "    \"Fill this in.\"\n",
    "    num = size(y,1)\n",
    "    error = sum(abs.((y.-pred).^2))/num\n",
    "    return error\n",
    "end\n",
    "\n",
    "\"\"\"This function plots the main diagonal; \n",
    "for a \"predicted vs true\" plot with perfect predictions,\n",
    "all data lies on this line\"\"\"\n",
    "function plotDiagonal(xmin, xmax)\n",
    "    xsamples = [xmin, xmax]\n",
    "    plot!(xsamples, xsamples, color=:black)\n",
    "end\n",
    "\n",
    "\"\"\"This helper funciton plots x vs, y and labels the axes.\"\"\"\n",
    "function plotdata(x,y,xname, yname; margin=.05, plotDiag=true, zeromin=false)\n",
    "    scatter(x,y, label=\"data\")\n",
    "    xlabel!(xname)\n",
    "    ylabel!(yname)\n",
    "    range_y = maximum(y) - minimum(y)\n",
    "    range_x = maximum(x) - minimum(x)\n",
    "    if plotDiag\n",
    "        plotDiagonal(minimum(x)-margin*range_x, maximum(x)+margin*range_x)\n",
    "    end\n",
    "    if zeromin\n",
    "        ylims!((0.0,maximum(y)+margin*range_y))\n",
    "        xlims!((0.0,maximum(x)+margin*range_x))\n",
    "    else\n",
    "        ylims!((minimum(y)-margin*range_y,maximum(y)+margin*range_y))\n",
    "        xlims!((minimum(x)-margin*range_x,maximum(x)+margin*range_x))\n",
    "    end\n",
    "end\n",
    "\n",
    "\"\"\"This function plots the predicted labels vs the actual labels\n",
    "(We only plots the first 1000 points to avoid slow plots.)\"\"\"\n",
    "function plot_pred_true(test_pred, test_y, max_points = 1000)\n",
    "    plotdata(test_pred[1:max_points], test_y[1:max_points], \"Predicted Rating\", \"True Rating\", zeromin=true)\n",
    "end"
   ]
  },
  {
   "cell_type": "code",
   "execution_count": 6,
   "metadata": {},
   "outputs": [
    {
     "data": {
      "text/plain": [
       "3-element Array{Symbol,1}:\n",
       " :beds            \n",
       " :security_deposit\n",
       " :cleaning_fee    "
      ]
     },
     "execution_count": 6,
     "metadata": {},
     "output_type": "execute_result"
    }
   ],
   "source": [
    "\"This function converts strings to floating point values.\n",
    "Strings that cannot be represented as a number (like NA) are converted to zeros\"\n",
    "function string_to_float(str)\n",
    "    try\n",
    "        parse(Float64, str)\n",
    "    catch\n",
    "       0.0\n",
    "    end\n",
    "end\n",
    "\n",
    "labels_real = [\n",
    "  :overall_rating,\n",
    "  :seat_comfort_rating,\n",
    "  :cabin_staff_rating,\n",
    "  :food_beverages_rating,\n",
    "  :inflight_entertainment_rating,\n",
    "  :ground_service_rating,\n",
    "  :wifi_connectivity_rating,\n",
    "  :value_money_rating,\n",
    "  :recommended\n",
    "]\n",
    "\n",
    "labels_string = [\n",
    "    :beds,\n",
    "    :security_deposit,\n",
    "    :cleaning_fee\n",
    "]"
   ]
  },
  {
   "cell_type": "code",
   "execution_count": 7,
   "metadata": {},
   "outputs": [
    {
     "ename": "UndefVarError",
     "evalue": "UndefVarError: train_x not defined",
     "output_type": "error",
     "traceback": [
      "UndefVarError: train_x not defined",
      "",
      "Stacktrace:",
      " [1] top-level scope at In[7]:1"
     ]
    }
   ],
   "source": [
    "# # Only converting for seat comfort and cabin staff\n",
    "# train_vals_real = convert(Matrix,train_x[:,filter(col -> (col in labels_real), [:seat_comfort_rating,:cabin_staff_rating])]);\n",
    "# test_vals_real = convert(Matrix,test_x[:,filter(col -> (col in labels_real), [:seat_comfort_rating,:cabin_staff_rating])]);\n",
    "# size(train_vals_real,1)\n",
    "# any(ismissing,train_vals_real)\n",
    "\n",
    "# Only converting for seat comfort, cabin staff, food/beverage, and inflight entertainment\n",
    "train_vals_real = convert(Matrix,train_x[:,filter(col -> (col in labels_real), [:seat_comfort_rating,:cabin_staff_rating,:food_beverages_rating,:inflight_entertainment_rating,:value_money_rating])]);\n",
    "test_vals_real = convert(Matrix,test_x[:,filter(col -> (col in labels_real), [:seat_comfort_rating,:cabin_staff_rating,:food_beverages_rating,:inflight_entertainment_rating,:value_money_rating])]);\n",
    "size(train_vals_real,1)\n",
    "any(ismissing,train_vals_real)\n",
    "\n",
    "# Add offset\n",
    "train_vals_real = [train_vals_real ones(size(train_vals_real,1))];\n",
    "test_vals_real = [test_vals_real ones(size(test_vals_real,1))];\n",
    "\n",
    "[train_vals_real train_y]"
   ]
  },
  {
   "cell_type": "code",
   "execution_count": 8,
   "metadata": {},
   "outputs": [
    {
     "ename": "UndefVarError",
     "evalue": "UndefVarError: train_vals_real not defined",
     "output_type": "error",
     "traceback": [
      "UndefVarError: train_vals_real not defined",
      "",
      "Stacktrace:",
      " [1] top-level scope at In[8]:1"
     ]
    }
   ],
   "source": [
    "train_vals_real = convert(Array{Float64,2},train_vals_real);"
   ]
  },
  {
   "cell_type": "code",
   "execution_count": 9,
   "metadata": {},
   "outputs": [
    {
     "ename": "UndefVarError",
     "evalue": "UndefVarError: n not defined",
     "output_type": "error",
     "traceback": [
      "UndefVarError: n not defined",
      "",
      "Stacktrace:",
      " [1] top-level scope at In[9]:1"
     ]
    }
   ],
   "source": [
    "# L1 Loss\n",
    "loss_L1 = 1/n*L1Loss()\n",
    "λ = 0\n",
    "# Quad Regularizer\n",
    "reg = QuadReg(λ)\n",
    "\n",
    "w_L1 = proxgrad(loss_L1, reg, train_vals_real, train_y, maxiters=10)\n",
    "train_pred = train_vals_real*w_L1\n",
    "test_pred = test_vals_real*w_L1\n",
    "train_MSE = MSE(train_pred,train_y)\n",
    "test_MSE = MSE(test_pred,test_y)\n",
    "\n",
    "println(\"Train MSE:\\t\", train_MSE)\n",
    "println(\"Test MSE: \\t\", test_MSE)"
   ]
  },
  {
   "cell_type": "code",
   "execution_count": 10,
   "metadata": {},
   "outputs": [
    {
     "ename": "UndefVarError",
     "evalue": "UndefVarError: n not defined",
     "output_type": "error",
     "traceback": [
      "UndefVarError: n not defined",
      "",
      "Stacktrace:",
      " [1] top-level scope at In[10]:1"
     ]
    }
   ],
   "source": [
    "# L1 Loss\n",
    "loss_L1 = 1/n*L1Loss()\n",
    "# Quad Regularizer\n",
    "# reg = λ*QuadReg()\n",
    "# reg = ZeroReg()\n",
    "\n",
    "train_MSE_array = zeros(101)\n",
    "test_MSE_array = zeros(101)\n",
    "\n",
    "for i = 0:100\n",
    "    \n",
    "    λ = i/100\n",
    "    println(λ)\n",
    "    reg = QuadReg(λ)\n",
    "    w_L1 = proxgrad(loss_L1, reg, train_vals_real, train_y, maxiters=10)\n",
    "    train_pred = train_vals_real*w_L1\n",
    "    test_pred = test_vals_real*w_L1\n",
    "    train_MSE = MSE(train_pred,train_y)\n",
    "    test_MSE = MSE(test_pred,test_y)\n",
    "    train_MSE_array[i+1] = train_MSE \n",
    "    test_MSE_array[i+1] = test_MSE\n",
    "end\n",
    "\n",
    "plot(collect(0:0.01:1),train_MSE_array)\n",
    "plot!(collect(0:0.01:1),test_MSE_array)\n",
    "println(\"Train MSE:\\t\", minimum(train_MSE_array))\n",
    "println(\"Test MSE: \\t\", minimum(test_MSE))"
   ]
  },
  {
   "cell_type": "code",
   "execution_count": 11,
   "metadata": {},
   "outputs": [
    {
     "ename": "UndefVarError",
     "evalue": "UndefVarError: n not defined",
     "output_type": "error",
     "traceback": [
      "UndefVarError: n not defined",
      "",
      "Stacktrace:",
      " [1] top-level scope at In[11]:1"
     ]
    }
   ],
   "source": [
    "# L2 Loss\n",
    "loss_L2 = 1/n*QuadLoss()\n",
    "# Quad Regularizer\n",
    "# reg = λ*QuadReg()\n",
    "# reg = ZeroReg()\n",
    "\n",
    "train_MSE_array = Float64[]\n",
    "test_MSE_array = Float64[]\n",
    "λs = 0:.01:1\n",
    "\n",
    "for λ in λs\n",
    "    print(λ)\n",
    "    reg = QuadReg(λ)\n",
    "    w_L2 = proxgrad(loss_L2, reg, train_vals_real, train_y, maxiters=1000)\n",
    "    train_pred = train_vals_real*w_L2\n",
    "    test_pred = test_vals_real*w_L2\n",
    "    train_MSE = MSE(train_pred,train_y)\n",
    "    test_MSE = MSE(test_pred,test_y)\n",
    "    push!(train_MSE_array,train_MSE)\n",
    "    push!(test_MSE_array,test_MSE)\n",
    "end\n",
    "println(\"\")\n",
    "println(\"Min Train MSE:\\t\", minimum(train_MSE_array))\n",
    "println(\"Min Test MSE: \\t\", minimum(test_MSE_array))\n",
    "println(\"Optimal λ: \\t\", λs[argmin(test_MSE_array)])\n",
    "plot(λs,train_MSE_array)\n",
    "plot!(λs,test_MSE_array)"
   ]
  },
  {
   "cell_type": "code",
   "execution_count": 12,
   "metadata": {},
   "outputs": [
    {
     "ename": "UndefVarError",
     "evalue": "UndefVarError: n not defined",
     "output_type": "error",
     "traceback": [
      "UndefVarError: n not defined",
      "",
      "Stacktrace:",
      " [1] top-level scope at In[12]:1"
     ]
    }
   ],
   "source": [
    "# L2 Loss\n",
    "loss_L2 = 1/n*QuadLoss()\n",
    "# Quad Regularizer\n",
    "# reg = λ*QuadReg()\n",
    "# reg = ZeroReg()\n",
    "\n",
    "train_MSE_array = Float64[]\n",
    "test_MSE_array = Float64[]\n",
    "λs = 0:.01:1\n",
    "\n",
    "for λ in λs\n",
    "    print(λ)\n",
    "    reg = QuadReg(λ)\n",
    "    w_L2 = proxgrad(loss_L2, reg, train_vals_real, train_y, maxiters=2000)\n",
    "    train_pred = train_vals_real*w_L2\n",
    "    test_pred = test_vals_real*w_L2\n",
    "    train_MSE = MSE(train_pred,train_y)\n",
    "    test_MSE = MSE(test_pred,test_y)\n",
    "    push!(train_MSE_array,train_MSE)\n",
    "    push!(test_MSE_array,test_MSE)\n",
    "end\n",
    "println(\"\")\n",
    "println(\"Min Train MSE:\\t\", minimum(train_MSE_array))\n",
    "println(\"Min Test MSE: \\t\", minimum(test_MSE_array))\n",
    "println(\"Optimal λ: \\t\", λs[argmin(test_MSE_array)])\n",
    "plot(λs,train_MSE_array)\n",
    "plot!(λs,test_MSE_array)"
   ]
  },
  {
   "cell_type": "code",
   "execution_count": null,
   "metadata": {},
   "outputs": [],
   "source": []
  }
 ],
 "metadata": {
  "kernelspec": {
   "display_name": "Julia 1.2.0",
   "language": "julia",
   "name": "julia-1.2"
  },
  "language_info": {
   "file_extension": ".jl",
   "mimetype": "application/julia",
   "name": "julia",
   "version": "1.2.0"
  }
 },
 "nbformat": 4,
 "nbformat_minor": 2
}
