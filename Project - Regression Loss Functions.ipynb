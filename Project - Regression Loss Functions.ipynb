{
 "cells": [
  {
   "cell_type": "code",
   "execution_count": 1,
   "metadata": {},
   "outputs": [],
   "source": [
    "using Random\n",
    "Random.seed!(13)\n",
    "\n",
    "using CSV\n",
    "using Plots\n",
    "using DataFrames\n",
    "using Statistics\n",
    "using Missings\n",
    "using Distributions\n",
    "using StatsPlots\n",
    "using LowRankModels, LinearAlgebra"
   ]
  },
  {
   "cell_type": "code",
   "execution_count": 37,
   "metadata": {},
   "outputs": [
    {
     "data": {
      "text/html": [
       "<table class=\"data-frame\"><thead><tr><th></th><th>airline_name</th><th>link</th><th>title</th><th>author</th></tr><tr><th></th><th>String</th><th>String</th><th>String</th><th>String</th></tr></thead><tbody><p>41,396 rows × 20 columns (omitted printing of 16 columns)</p><tr><th>1</th><td>adria-airways</td><td>/airline-reviews/adria-airways</td><td>Adria Airways customer review</td><td>D Ito</td></tr><tr><th>2</th><td>adria-airways</td><td>/airline-reviews/adria-airways</td><td>Adria Airways customer review</td><td>Ron Kuhlmann</td></tr><tr><th>3</th><td>adria-airways</td><td>/airline-reviews/adria-airways</td><td>Adria Airways customer review</td><td>E Albin</td></tr><tr><th>4</th><td>adria-airways</td><td>/airline-reviews/adria-airways</td><td>Adria Airways customer review</td><td>Tercon Bojan</td></tr><tr><th>5</th><td>adria-airways</td><td>/airline-reviews/adria-airways</td><td>Adria Airways customer review</td><td>L James</td></tr><tr><th>6</th><td>adria-airways</td><td>/airline-reviews/adria-airways</td><td>Adria Airways customer review</td><td>Dzano Edin</td></tr><tr><th>7</th><td>adria-airways</td><td>/airline-reviews/adria-airways</td><td>Adria Airways customer review</td><td>M Tushishvili</td></tr><tr><th>8</th><td>adria-airways</td><td>/airline-reviews/adria-airways</td><td>Adria Airways customer review</td><td>M Znidar</td></tr><tr><th>9</th><td>adria-airways</td><td>/airline-reviews/adria-airways</td><td>Adria Airways customer review</td><td>Tercon Bojan</td></tr><tr><th>10</th><td>adria-airways</td><td>/airline-reviews/adria-airways</td><td>Adria Airways customer review</td><td>M Znidar</td></tr><tr><th>11</th><td>adria-airways</td><td>/airline-reviews/adria-airways</td><td>Adria Airways customer review</td><td>Aytek Cingitas</td></tr><tr><th>12</th><td>adria-airways</td><td>/airline-reviews/adria-airways</td><td>Adria Airways customer review</td><td>Hashim Azlan</td></tr><tr><th>13</th><td>adria-airways</td><td>/airline-reviews/adria-airways</td><td>Adria Airways customer review</td><td>L Stefan</td></tr><tr><th>14</th><td>adria-airways</td><td>/airline-reviews/adria-airways</td><td>Adria Airways customer review</td><td>Tercon Bojan</td></tr><tr><th>15</th><td>adria-airways</td><td>/airline-reviews/adria-airways</td><td>Adria Airways customer review</td><td>Michael Asher</td></tr><tr><th>16</th><td>adria-airways</td><td>/airline-reviews/adria-airways</td><td>Adria Airways customer review</td><td>M Tushishvili</td></tr><tr><th>17</th><td>adria-airways</td><td>/airline-reviews/adria-airways</td><td>Adria Airways customer review</td><td>Georgios Vrontos</td></tr><tr><th>18</th><td>adria-airways</td><td>/airline-reviews/adria-airways</td><td>Adria Airways customer review</td><td>R Mahr</td></tr><tr><th>19</th><td>adria-airways</td><td>/airline-reviews/adria-airways</td><td>Adria Airways customer review</td><td>A Vlasov</td></tr><tr><th>20</th><td>adria-airways</td><td>/airline-reviews/adria-airways</td><td>Adria Airways customer review</td><td>Rok Urbancic</td></tr><tr><th>21</th><td>adria-airways</td><td>/airline-reviews/adria-airways</td><td>Adria Airways customer review</td><td>A Plesnicar</td></tr><tr><th>22</th><td>adria-airways</td><td>/airline-reviews/adria-airways</td><td>Adria Airways customer review</td><td>S Gregorn</td></tr><tr><th>23</th><td>adria-airways</td><td>/airline-reviews/adria-airways</td><td>Adria Airways customer review</td><td>J Major</td></tr><tr><th>24</th><td>adria-airways</td><td>/airline-reviews/adria-airways</td><td>Adria Airways customer review</td><td>P Browne</td></tr><tr><th>25</th><td>adria-airways</td><td>/airline-reviews/adria-airways</td><td>Adria Airways customer review</td><td>P Wilson</td></tr><tr><th>26</th><td>adria-airways</td><td>/airline-reviews/adria-airways</td><td>Adria Airways customer review</td><td>Andrew Powell</td></tr><tr><th>27</th><td>adria-airways</td><td>/airline-reviews/adria-airways</td><td>Adria Airways customer review</td><td>J Harvey</td></tr><tr><th>28</th><td>adria-airways</td><td>/airline-reviews/adria-airways</td><td>Adria Airways customer review</td><td>Axel Bosch</td></tr><tr><th>29</th><td>adria-airways</td><td>/airline-reviews/adria-airways</td><td>Adria Airways customer review</td><td>Yevheniy Kahanovych</td></tr><tr><th>30</th><td>adria-airways</td><td>/airline-reviews/adria-airways</td><td>Adria Airways customer review</td><td>Alexander Stare</td></tr><tr><th>&vellip;</th><td>&vellip;</td><td>&vellip;</td><td>&vellip;</td><td>&vellip;</td></tr></tbody></table>"
      ],
      "text/latex": [
       "\\begin{tabular}{r|ccccc}\n",
       "\t& airline\\_name & link & title & author & \\\\\n",
       "\t\\hline\n",
       "\t& String & String & String & String & \\\\\n",
       "\t\\hline\n",
       "\t1 & adria-airways & /airline-reviews/adria-airways & Adria Airways customer review & D Ito & $\\dots$ \\\\\n",
       "\t2 & adria-airways & /airline-reviews/adria-airways & Adria Airways customer review & Ron Kuhlmann & $\\dots$ \\\\\n",
       "\t3 & adria-airways & /airline-reviews/adria-airways & Adria Airways customer review & E Albin & $\\dots$ \\\\\n",
       "\t4 & adria-airways & /airline-reviews/adria-airways & Adria Airways customer review & Tercon Bojan & $\\dots$ \\\\\n",
       "\t5 & adria-airways & /airline-reviews/adria-airways & Adria Airways customer review & L James & $\\dots$ \\\\\n",
       "\t6 & adria-airways & /airline-reviews/adria-airways & Adria Airways customer review & Dzano Edin & $\\dots$ \\\\\n",
       "\t7 & adria-airways & /airline-reviews/adria-airways & Adria Airways customer review & M Tushishvili & $\\dots$ \\\\\n",
       "\t8 & adria-airways & /airline-reviews/adria-airways & Adria Airways customer review & M Znidar & $\\dots$ \\\\\n",
       "\t9 & adria-airways & /airline-reviews/adria-airways & Adria Airways customer review & Tercon Bojan & $\\dots$ \\\\\n",
       "\t10 & adria-airways & /airline-reviews/adria-airways & Adria Airways customer review & M Znidar & $\\dots$ \\\\\n",
       "\t11 & adria-airways & /airline-reviews/adria-airways & Adria Airways customer review & Aytek Cingitas & $\\dots$ \\\\\n",
       "\t12 & adria-airways & /airline-reviews/adria-airways & Adria Airways customer review & Hashim Azlan & $\\dots$ \\\\\n",
       "\t13 & adria-airways & /airline-reviews/adria-airways & Adria Airways customer review & L Stefan & $\\dots$ \\\\\n",
       "\t14 & adria-airways & /airline-reviews/adria-airways & Adria Airways customer review & Tercon Bojan & $\\dots$ \\\\\n",
       "\t15 & adria-airways & /airline-reviews/adria-airways & Adria Airways customer review & Michael Asher & $\\dots$ \\\\\n",
       "\t16 & adria-airways & /airline-reviews/adria-airways & Adria Airways customer review & M Tushishvili & $\\dots$ \\\\\n",
       "\t17 & adria-airways & /airline-reviews/adria-airways & Adria Airways customer review & Georgios Vrontos & $\\dots$ \\\\\n",
       "\t18 & adria-airways & /airline-reviews/adria-airways & Adria Airways customer review & R Mahr & $\\dots$ \\\\\n",
       "\t19 & adria-airways & /airline-reviews/adria-airways & Adria Airways customer review & A Vlasov & $\\dots$ \\\\\n",
       "\t20 & adria-airways & /airline-reviews/adria-airways & Adria Airways customer review & Rok Urbancic & $\\dots$ \\\\\n",
       "\t21 & adria-airways & /airline-reviews/adria-airways & Adria Airways customer review & A Plesnicar & $\\dots$ \\\\\n",
       "\t22 & adria-airways & /airline-reviews/adria-airways & Adria Airways customer review & S Gregorn & $\\dots$ \\\\\n",
       "\t23 & adria-airways & /airline-reviews/adria-airways & Adria Airways customer review & J Major & $\\dots$ \\\\\n",
       "\t24 & adria-airways & /airline-reviews/adria-airways & Adria Airways customer review & P Browne & $\\dots$ \\\\\n",
       "\t25 & adria-airways & /airline-reviews/adria-airways & Adria Airways customer review & P Wilson & $\\dots$ \\\\\n",
       "\t26 & adria-airways & /airline-reviews/adria-airways & Adria Airways customer review & Andrew Powell & $\\dots$ \\\\\n",
       "\t27 & adria-airways & /airline-reviews/adria-airways & Adria Airways customer review & J Harvey & $\\dots$ \\\\\n",
       "\t28 & adria-airways & /airline-reviews/adria-airways & Adria Airways customer review & Axel Bosch & $\\dots$ \\\\\n",
       "\t29 & adria-airways & /airline-reviews/adria-airways & Adria Airways customer review & Yevheniy Kahanovych & $\\dots$ \\\\\n",
       "\t30 & adria-airways & /airline-reviews/adria-airways & Adria Airways customer review & Alexander Stare & $\\dots$ \\\\\n",
       "\t$\\dots$ & $\\dots$ & $\\dots$ & $\\dots$ & $\\dots$ &  \\\\\n",
       "\\end{tabular}\n"
      ],
      "text/plain": [
       "41396×20 DataFrame. Omitted printing of 18 columns\n",
       "│ Row   │ airline_name  │ link                           │\n",
       "│       │ \u001b[90mString\u001b[39m        │ \u001b[90mString\u001b[39m                         │\n",
       "├───────┼───────────────┼────────────────────────────────┤\n",
       "│ 1     │ adria-airways │ /airline-reviews/adria-airways │\n",
       "│ 2     │ adria-airways │ /airline-reviews/adria-airways │\n",
       "│ 3     │ adria-airways │ /airline-reviews/adria-airways │\n",
       "│ 4     │ adria-airways │ /airline-reviews/adria-airways │\n",
       "│ 5     │ adria-airways │ /airline-reviews/adria-airways │\n",
       "│ 6     │ adria-airways │ /airline-reviews/adria-airways │\n",
       "│ 7     │ adria-airways │ /airline-reviews/adria-airways │\n",
       "│ 8     │ adria-airways │ /airline-reviews/adria-airways │\n",
       "│ 9     │ adria-airways │ /airline-reviews/adria-airways │\n",
       "│ 10    │ adria-airways │ /airline-reviews/adria-airways │\n",
       "⋮\n",
       "│ 41386 │ wizz-air      │ /airline-reviews/wizz-air      │\n",
       "│ 41387 │ wizz-air      │ /airline-reviews/wizz-air      │\n",
       "│ 41388 │ wizz-air      │ /airline-reviews/wizz-air      │\n",
       "│ 41389 │ wizz-air      │ /airline-reviews/wizz-air      │\n",
       "│ 41390 │ wizz-air      │ /airline-reviews/wizz-air      │\n",
       "│ 41391 │ wizz-air      │ /airline-reviews/wizz-air      │\n",
       "│ 41392 │ wizz-air      │ /airline-reviews/wizz-air      │\n",
       "│ 41393 │ wizz-air      │ /airline-reviews/wizz-air      │\n",
       "│ 41394 │ wizz-air      │ /airline-reviews/wizz-air      │\n",
       "│ 41395 │ wizz-air      │ /airline-reviews/wizz-air      │\n",
       "│ 41396 │ wizz-air      │ /airline-reviews/wizz-air      │"
      ]
     },
     "execution_count": 37,
     "metadata": {},
     "output_type": "execute_result"
    }
   ],
   "source": [
    "include(\"proxgrad.jl\")\n",
    "df = CSV.read(\"airline.csv\")"
   ]
  },
  {
   "cell_type": "code",
   "execution_count": 38,
   "metadata": {},
   "outputs": [
    {
     "name": "stdout",
     "output_type": "stream",
     "text": [
      "1\tairline_name\t\t\tString\n",
      "2\tlink\t\t\tString\n",
      "3\ttitle\t\t\tString\n",
      "4\tauthor\t\t\tString\n",
      "5\tauthor_country\t\t\tUnion{Missing, String}\n",
      "6\tdate\t\t\tDates.Date\n",
      "7\tcontent\t\t\tString\n",
      "8\taircraft\t\t\tUnion{Missing, String}\n",
      "9\ttype_traveller\t\t\tUnion{Missing, String}\n",
      "10\tcabin_flown\t\t\tUnion{Missing, String}\n",
      "11\troute\t\t\tUnion{Missing, String}\n",
      "12\toverall_rating\t\t\tUnion{Missing, Float64}\n",
      "13\tseat_comfort_rating\t\t\tUnion{Missing, Float64}\n",
      "14\tcabin_staff_rating\t\t\tUnion{Missing, Float64}\n",
      "15\tfood_beverages_rating\t\t\tUnion{Missing, Float64}\n",
      "16\tinflight_entertainment_rating\t\t\tUnion{Missing, Float64}\n",
      "17\tground_service_rating\t\t\tUnion{Missing, Float64}\n",
      "18\twifi_connectivity_rating\t\t\tUnion{Missing, Float64}\n",
      "19\tvalue_money_rating\t\t\tUnion{Missing, Float64}\n",
      "20\trecommended\t\t\tInt64\n"
     ]
    }
   ],
   "source": [
    "# Organize and display features along with variable type\n",
    "feature_names = names(df)\n",
    "for i in 1:20\n",
    "    println(string(i), \"\\t\", string(feature_names[i]), \"\\t\\t\\t\", string(eltype(df[!, i])))\n",
    "end"
   ]
  },
  {
   "cell_type": "markdown",
   "metadata": {},
   "source": [
    "Bag of words & manyhot function for text features"
   ]
  },
  {
   "cell_type": "code",
   "execution_count": 39,
   "metadata": {},
   "outputs": [
    {
     "data": {
      "text/plain": [
       "manyhot"
      ]
     },
     "execution_count": 39,
     "metadata": {},
     "output_type": "execute_result"
    }
   ],
   "source": [
    "# Bag of words function to add bag of word features to data \n",
    "\n",
    "bag_of_words = [\"good\",\n",
    "                \"first\",\n",
    "                \"entertainment\",\n",
    "                \"friendly\",\n",
    "                \"new\",\n",
    "                \"comfortable\",\n",
    "                \"great\",\n",
    "                \"delayed\",\n",
    "                \"excellent\",\n",
    "                \"nice\",\n",
    "                \"late\",\n",
    "                \"better\",\n",
    "                \"offered\",\n",
    "                \"free\",\n",
    "                \"delay\",\n",
    "                \"helpful\",\n",
    "                \"early\",\n",
    "                \"pleasant\",\n",
    "                \"best\",\n",
    "                \"available\",\n",
    "                \"efficient\",\n",
    "                \"recommend\",\n",
    "                \"uncomfortable\",\n",
    "                \"cancelled\",\n",
    "                \"comfort\",\n",
    "                \"problems\",\n",
    "                \"delays\",\n",
    "                \"united\",\n",
    "                \"cheap\",\n",
    "                \"awful\"\n",
    "                ]\n",
    "\n",
    "\"Computes a manyhot vector for every entry in column given a bag of words\"\n",
    "function manyhot(column, words=bag_of_words)\n",
    "    result = zeros(size(column,1), size(words,1))\n",
    "    for i = 1:size(column,1)\n",
    "        for j in 1:size(words,1)\n",
    "            if occursin(words[j],column[i])\n",
    "                result[i,j] = Int(1)\n",
    "            end\n",
    "        end\n",
    "    end\n",
    "    convert(Array{Int64,2},result)\n",
    "end"
   ]
  },
  {
   "cell_type": "markdown",
   "metadata": {},
   "source": [
    "Filter data set to remove rows with missing features.\n",
    "Split training and testing sets."
   ]
  },
  {
   "cell_type": "code",
   "execution_count": 40,
   "metadata": {},
   "outputs": [
    {
     "name": "stdout",
     "output_type": "stream",
     "text": [
      "Size of dataset: 28341\n",
      "Size of train: 22673.0\n",
      "Size of test: 5668.0\n"
     ]
    }
   ],
   "source": [
    "# Reduce number of datapoints for computation time\n",
    "\n",
    "# Filter data to only consider entries with overall rating\n",
    "df_OR = df[.!(ismissing.(df[!, :overall_rating])), :];\n",
    "\n",
    "df_OR_filtered = df_OR[.!(ismissing.(df_OR[!, :seat_comfort_rating])), :]; \n",
    "data_OR_filtered = df_OR_filtered[.!(ismissing.(df_OR_filtered[!, :cabin_staff_rating])), :];\n",
    "data_OR_filtered = data_OR_filtered[.!(ismissing.(df_OR_filtered[!, :content])), :];\n",
    "\n",
    "# Now adding food_beverages_rating, inflight_entertainment_rating, and value money rating\n",
    "data_OR_filtered = data_OR_filtered[.!(ismissing.(data_OR_filtered[!, :food_beverages_rating])), :];\n",
    "data_OR_filtered = data_OR_filtered[.!(ismissing.(data_OR_filtered[!, :inflight_entertainment_rating])), :];\n",
    "data_OR_filtered = data_OR_filtered[.!(ismissing.(data_OR_filtered[!, :value_money_rating])), :];\n",
    "\n",
    "train_proportion = 0.8\n",
    "n = size(data_OR_filtered, 1)\n",
    "println(\"Size of dataset: \", string(n))\n",
    "\n",
    "# Put the first ntrain observations in the DataFrame df into the training set, and the rest into the test set\n",
    "ntrain = convert(Int, round(train_proportion*n))\n",
    "println(\"Size of train: \", string(round(train_proportion*n)))\n",
    "println(\"Size of test: \", string(round(n-train_proportion*n)))\n",
    "\n",
    "# Create manyhot bag of words binary array and add feature columns to original airline dataframe\n",
    "df_content = data_OR_filtered[:, :content]\n",
    "manyhot_data = manyhot(df_content)\n",
    "for i = 1:size(bag_of_words,1)\n",
    "   data_OR_filtered[!,Symbol(bag_of_words[i])] = manyhot_data[:,i]\n",
    "end\n",
    "\n",
    "target = data_OR_filtered[:, :overall_rating]\n",
    "\n",
    "# Filter data for entries with only seat_comfort, cabin_staff\n",
    "# df_OR_filtered = df_OR[.!(ismissing.(df[!, :seat_comfort_rating])), :]; \n",
    "# df_OR_filtered = df_OR[.!(ismissing.(df[!, :cabin_staff_rating])), :]; \n",
    "# data_OR_filtered = df_OR_filtered[:, filter(col -> (col != :overall_rating), feature_names)]\n",
    "\n",
    "# the following variable records the features of examples in the training set\n",
    "train_x = data_OR_filtered[1:ntrain,:]\n",
    "\n",
    "# the following variable records the features of examples in the test set\n",
    "test_x = data_OR_filtered[ntrain+1:end,:]\n",
    "\n",
    "# the following variable records the labels of examples in the training set\n",
    "train_y = target[1:ntrain]\n",
    "train_y = collect(skipmissing(train_y))\n",
    "# the following variable records the labels of examples in the test set\n",
    "test_y = target[ntrain+1:end]\n",
    "test_y = collect(skipmissing(test_y));"
   ]
  },
  {
   "cell_type": "code",
   "execution_count": 41,
   "metadata": {},
   "outputs": [
    {
     "data": {
      "text/plain": [
       "plot_pred_true"
      ]
     },
     "execution_count": 41,
     "metadata": {},
     "output_type": "execute_result"
    }
   ],
   "source": [
    "\"\"\"This function just computes the mean squared error.\"\"\"\n",
    "function MSE(y, pred)\n",
    "    \"Fill this in.\"\n",
    "    num = size(y,1)\n",
    "    error = sum(abs.((y.-pred).^2))/num\n",
    "    return error\n",
    "end\n",
    "\n",
    "\"\"\"This function plots the main diagonal; \n",
    "for a \"predicted vs true\" plot with perfect predictions,\n",
    "all data lies on this line\"\"\"\n",
    "function plotDiagonal(xmin, xmax)\n",
    "    xsamples = [xmin, xmax]\n",
    "    plot!(xsamples, xsamples, color=:black)\n",
    "end\n",
    "\n",
    "\"\"\"This helper funciton plots x vs, y and labels the axes.\"\"\"\n",
    "function plotdata(x,y,xname, yname; margin=.05, plotDiag=true, zeromin=false)\n",
    "    scatter(x,y, label=\"data\")\n",
    "    xlabel!(xname)\n",
    "    ylabel!(yname)\n",
    "    range_y = maximum(y) - minimum(y)\n",
    "    range_x = maximum(x) - minimum(x)\n",
    "    if plotDiag\n",
    "        plotDiagonal(minimum(x)-margin*range_x, maximum(x)+margin*range_x)\n",
    "    end\n",
    "    if zeromin\n",
    "        ylims!((0.0,maximum(y)+margin*range_y))\n",
    "        xlims!((0.0,maximum(x)+margin*range_x))\n",
    "    else\n",
    "        ylims!((minimum(y)-margin*range_y,maximum(y)+margin*range_y))\n",
    "        xlims!((minimum(x)-margin*range_x,maximum(x)+margin*range_x))\n",
    "    end\n",
    "end\n",
    "\n",
    "\"\"\"This function plots the predicted labels vs the actual labels\n",
    "(We only plots the first 1000 points to avoid slow plots.)\"\"\"\n",
    "function plot_pred_true(test_pred, test_y, max_points = 1000)\n",
    "    plotdata(test_pred[1:max_points], test_y[1:max_points], \"Predicted Rating\", \"True Rating\", zeromin=true)\n",
    "end"
   ]
  },
  {
   "cell_type": "code",
   "execution_count": 42,
   "metadata": {},
   "outputs": [],
   "source": [
    "\"This function converts strings to floating point values.\n",
    "Strings that cannot be represented as a number (like NA) are converted to zeros\"\n",
    "function string_to_float(str)\n",
    "    try\n",
    "        parse(Float64, str)\n",
    "    catch\n",
    "       0.0\n",
    "    end\n",
    "end\n",
    "\n",
    "labels_all = [\n",
    "  :overall_rating,\n",
    "  :seat_comfort_rating,\n",
    "  :cabin_staff_rating,\n",
    "  :food_beverages_rating,\n",
    "  :inflight_entertainment_rating,\n",
    "  :ground_service_rating,\n",
    "  :wifi_connectivity_rating,\n",
    "  :value_money_rating,\n",
    "  :recommended\n",
    "]\n",
    "\n",
    "labels_real = [\n",
    "    :seat_comfort_rating,\n",
    "    :cabin_staff_rating,\n",
    "    :food_beverages_rating,\n",
    "    :inflight_entertainment_rating,\n",
    "    :value_money_rating\n",
    "]\n",
    "\n",
    "\n",
    "symbol_words = Symbol[]\n",
    "\n",
    "for word in bag_of_words\n",
    "    push!(symbol_words,Symbol(word))\n",
    "end\n",
    "\n",
    "labels_all_words = vcat(labels_all,symbol_words);\n",
    "labels_real_words = vcat(labels_real,symbol_words);"
   ]
  },
  {
   "cell_type": "markdown",
   "metadata": {},
   "source": [
    "Filter data sets to only include features of interest. Current models includes the following labels:\n",
    "\n",
    "   * Seat comfort rating\n",
    "   * Cabin staff rating\n",
    "   * Food beverage rating\n",
    "   * Inflight entertainment rating\n",
    "   * Value money rating\n",
    "   * Bag of words text (30 words chosen)"
   ]
  },
  {
   "cell_type": "code",
   "execution_count": 43,
   "metadata": {},
   "outputs": [
    {
     "data": {
      "text/plain": [
       "22673×7 Array{Float64,2}:\n",
       " 4.0  4.0  4.0  0.0  4.0  1.0   7.0\n",
       " 4.0  5.0  4.0  1.0  5.0  1.0  10.0\n",
       " 5.0  5.0  4.0  0.0  5.0  1.0   9.0\n",
       " 4.0  4.0  3.0  1.0  4.0  1.0   8.0\n",
       " 4.0  2.0  1.0  2.0  2.0  1.0   4.0\n",
       " 4.0  4.0  3.0  3.0  4.0  1.0   9.0\n",
       " 4.0  4.0  1.0  0.0  3.0  1.0   5.0\n",
       " 5.0  5.0  4.0  3.0  4.0  1.0   9.0\n",
       " 4.0  3.0  4.0  1.0  4.0  1.0   8.0\n",
       " 5.0  5.0  4.0  4.0  4.0  1.0  10.0\n",
       " 4.0  4.0  4.0  4.0  4.0  1.0   9.0\n",
       " 4.0  5.0  3.0  3.0  5.0  1.0   7.0\n",
       " 4.0  4.0  4.0  0.0  4.0  1.0   8.0\n",
       " ⋮                        ⋮        \n",
       " 1.0  1.0  1.0  1.0  1.0  1.0   1.0\n",
       " 2.0  1.0  1.0  1.0  1.0  1.0   1.0\n",
       " 1.0  2.0  1.0  1.0  1.0  1.0   1.0\n",
       " 1.0  2.0  2.0  1.0  1.0  1.0   1.0\n",
       " 2.0  4.0  3.0  1.0  2.0  1.0   2.0\n",
       " 1.0  2.0  1.0  1.0  1.0  1.0   1.0\n",
       " 1.0  1.0  1.0  1.0  1.0  1.0   1.0\n",
       " 1.0  1.0  1.0  1.0  1.0  1.0   1.0\n",
       " 1.0  1.0  1.0  1.0  1.0  1.0   1.0\n",
       " 5.0  5.0  2.0  3.0  5.0  1.0  10.0\n",
       " 2.0  4.0  2.0  1.0  3.0  1.0   6.0\n",
       " 1.0  1.0  1.0  1.0  1.0  1.0   1.0"
      ]
     },
     "execution_count": 43,
     "metadata": {},
     "output_type": "execute_result"
    }
   ],
   "source": [
    "# # Only converting for seat comfort and cabin staff\n",
    "# train_vals_real = convert(Matrix,train_x[:,filter(col -> (col in labels_real), [:seat_comfort_rating,:cabin_staff_rating])]);\n",
    "# test_vals_real = convert(Matrix,test_x[:,filter(col -> (col in labels_real), [:seat_comfort_rating,:cabin_staff_rating])]);\n",
    "# size(train_vals_real,1)\n",
    "# any(ismissing,train_vals_real)\n",
    "\n",
    "# Only converting for seat comfort, cabin staff, food/beverage, and inflight entertainment\n",
    "train_vals_real = convert(Matrix,train_x[:,filter(col -> (col in labels_real), [:seat_comfort_rating,:cabin_staff_rating,:food_beverages_rating,:inflight_entertainment_rating,:value_money_rating])]);\n",
    "test_vals_real = convert(Matrix,test_x[:,filter(col -> (col in labels_real), [:seat_comfort_rating,:cabin_staff_rating,:food_beverages_rating,:inflight_entertainment_rating,:value_money_rating])]);\n",
    "size(train_vals_real,1)\n",
    "any(ismissing,train_vals_real)\n",
    "\n",
    "# Only converting for seat comfort, cabin staff, food/beverage, and inflight entertainment AND BAG OF WORDS\n",
    "# train_vals_real = convert(Matrix,train_x[:,filter(col -> (col in labels_real_words), labels_all_words)])\n",
    "# test_vals_real = convert(Matrix,test_x[:,filter(col -> (col in labels_real_words), labels_all_words)])\n",
    "# size(train_vals_real,1)\n",
    "# any(ismissing,train_vals_real)\n",
    "\n",
    "train_vals_real = convert(Array{Float64,2},train_vals_real)\n",
    "test_vals_real = convert(Array{Float64,2},test_vals_real)\n",
    "\n",
    "# # Add offset\n",
    "train_vals_real = [train_vals_real ones(size(train_vals_real,1))];\n",
    "test_vals_real = [test_vals_real ones(size(test_vals_real,1))];\n",
    "\n",
    "[train_vals_real train_y]"
   ]
  },
  {
   "cell_type": "markdown",
   "metadata": {},
   "source": [
    "# L1 Loss Function"
   ]
  },
  {
   "cell_type": "code",
   "execution_count": 44,
   "metadata": {},
   "outputs": [
    {
     "name": "stdout",
     "output_type": "stream",
     "text": [
      "Train MSE:\t2.4085693958718646\n",
      "Test MSE: \t2.3831797825297385\n"
     ]
    }
   ],
   "source": [
    "# L1 Loss\n",
    "loss_L1 = 1/n*L1Loss()\n",
    "λ = 0\n",
    "# Quad Regularizer\n",
    "reg = QuadReg(λ)\n",
    "\n",
    "w_L1 = proxgrad(loss_L1, reg, train_vals_real, train_y, maxiters=1000)\n",
    "train_pred = train_vals_real*w_L1\n",
    "test_pred = test_vals_real*w_L1\n",
    "train_MSE = MSE(train_pred,train_y)\n",
    "test_MSE = MSE(test_pred,test_y)\n",
    "\n",
    "println(\"Train MSE:\\t\", train_MSE)\n",
    "println(\"Test MSE: \\t\", test_MSE)"
   ]
  },
  {
   "cell_type": "markdown",
   "metadata": {},
   "source": [
    "Determine optimal Quadratic λ parameter for L1 model. Currently very difficult to converge with high iteration numbers. Currently ineffective."
   ]
  },
  {
   "cell_type": "code",
   "execution_count": 45,
   "metadata": {},
   "outputs": [
    {
     "name": "stdout",
     "output_type": "stream",
     "text": [
      "0.00.010.020.030.040.050.060.070.080.090.10.110.120.130.140.150.160.170.180.190.20.210.220.230.240.250.260.270.280.290.30.310.320.330.340.350.360.370.380.390.40.410.420.430.440.450.460.470.480.490.50.510.520.530.540.550.560.570.580.590.60.610.620.630.640.650.660.670.680.690.70.710.720.730.740.750.760.770.780.790.80.810.820.830.840.850.860.870.880.890.90.910.920.930.940.950.960.970.980.991.0Train MSE:\t3.12020476194991\n",
      "Test MSE: \t6.781837338533736\n"
     ]
    }
   ],
   "source": [
    "# L1 Loss\n",
    "loss_L1 = 1/n*L1Loss()\n",
    "# Quad Regularizer\n",
    "# reg = λ*QuadReg()\n",
    "# reg = ZeroReg()\n",
    "\n",
    "train_MSE_array = zeros(101)\n",
    "test_MSE_array = zeros(101)\n",
    "\n",
    "for i = 0:100\n",
    "    \n",
    "    λ = i/100\n",
    "    print(λ)\n",
    "    reg = QuadReg(λ)\n",
    "    w_L1 = proxgrad(loss_L1, reg, train_vals_real, train_y, maxiters=2)\n",
    "    train_pred = train_vals_real*w_L1\n",
    "    test_pred = test_vals_real*w_L1\n",
    "    train_MSE = MSE(train_pred,train_y)\n",
    "    test_MSE = MSE(test_pred,test_y)\n",
    "    train_MSE_array[i+1] = train_MSE \n",
    "    test_MSE_array[i+1] = test_MSE\n",
    "end\n",
    "\n",
    "plot(collect(0:0.01:1),train_MSE_array)\n",
    "plot!(collect(0:0.01:1),test_MSE_array)\n",
    "println(\"Train MSE:\\t\", minimum(train_MSE_array))\n",
    "println(\"Test MSE: \\t\", minimum(test_MSE))"
   ]
  },
  {
   "cell_type": "markdown",
   "metadata": {},
   "source": [
    "# L2 Loss Function"
   ]
  },
  {
   "cell_type": "code",
   "execution_count": 46,
   "metadata": {},
   "outputs": [
    {
     "name": "stdout",
     "output_type": "stream",
     "text": [
      "Train MSE:\t2.2739376110138494\n",
      "Test MSE: \t2.0956830319040662\n"
     ]
    }
   ],
   "source": [
    "loss_L2 = 1/n*QuadLoss()\n",
    "λ = 0.0001\n",
    "# Quad Regularizer\n",
    "reg = QuadReg(λ)\n",
    "\n",
    "w_L2 = proxgrad(loss_L2, reg, train_vals_real, train_y, maxiters=1500)\n",
    "train_pred = train_vals_real*w_L2\n",
    "test_pred = test_vals_real*w_L2\n",
    "train_MSE = MSE(train_pred,train_y)\n",
    "test_MSE = MSE(test_pred,test_y)\n",
    "\n",
    "println(\"Train MSE:\\t\", train_MSE)\n",
    "println(\"Test MSE: \\t\", test_MSE)"
   ]
  },
  {
   "cell_type": "code",
   "execution_count": 47,
   "metadata": {},
   "outputs": [
    {
     "name": "stdout",
     "output_type": "stream",
     "text": [
      "0.00.0010.0020.0030.0040.0050.0060.0070.0080.0090.01\n",
      "Min Train MSE:\t2.274778692190919\n",
      "Min Test MSE: \t2.1038323790110725\n",
      "Optimal λ: \t0.0\n"
     ]
    },
    {
     "data": {
      "image/svg+xml": [
       "<?xml version=\"1.0\" encoding=\"utf-8\"?>\n",
       "<svg xmlns=\"http://www.w3.org/2000/svg\" xmlns:xlink=\"http://www.w3.org/1999/xlink\" width=\"600\" height=\"400\" viewBox=\"0 0 2400 1600\">\n",
       "<defs>\n",
       "  <clipPath id=\"clip2900\">\n",
       "    <rect x=\"0\" y=\"0\" width=\"2400\" height=\"1600\"/>\n",
       "  </clipPath>\n",
       "</defs>\n",
       "<path clip-path=\"url(#clip2900)\" d=\"\n",
       "M0 1600 L2400 1600 L2400 0 L0 0  Z\n",
       "  \" fill=\"#ffffff\" fill-rule=\"evenodd\" fill-opacity=\"1\"/>\n",
       "<defs>\n",
       "  <clipPath id=\"clip2901\">\n",
       "    <rect x=\"480\" y=\"0\" width=\"1681\" height=\"1600\"/>\n",
       "  </clipPath>\n",
       "</defs>\n",
       "<path clip-path=\"url(#clip2900)\" d=\"\n",
       "M180.66 1487.47 L2352.76 1487.47 L2352.76 47.2441 L180.66 47.2441  Z\n",
       "  \" fill=\"#ffffff\" fill-rule=\"evenodd\" fill-opacity=\"1\"/>\n",
       "<defs>\n",
       "  <clipPath id=\"clip2902\">\n",
       "    <rect x=\"180\" y=\"47\" width=\"2173\" height=\"1441\"/>\n",
       "  </clipPath>\n",
       "</defs>\n",
       "<polyline clip-path=\"url(#clip2902)\" style=\"stroke:#000000; stroke-width:2; stroke-opacity:0.1; fill:none\" points=\"\n",
       "  242.135,1487.47 242.135,47.2441 \n",
       "  \"/>\n",
       "<polyline clip-path=\"url(#clip2902)\" style=\"stroke:#000000; stroke-width:2; stroke-opacity:0.1; fill:none\" points=\"\n",
       "  754.421,1487.47 754.421,47.2441 \n",
       "  \"/>\n",
       "<polyline clip-path=\"url(#clip2902)\" style=\"stroke:#000000; stroke-width:2; stroke-opacity:0.1; fill:none\" points=\"\n",
       "  1266.71,1487.47 1266.71,47.2441 \n",
       "  \"/>\n",
       "<polyline clip-path=\"url(#clip2902)\" style=\"stroke:#000000; stroke-width:2; stroke-opacity:0.1; fill:none\" points=\"\n",
       "  1778.99,1487.47 1778.99,47.2441 \n",
       "  \"/>\n",
       "<polyline clip-path=\"url(#clip2902)\" style=\"stroke:#000000; stroke-width:2; stroke-opacity:0.1; fill:none\" points=\"\n",
       "  2291.28,1487.47 2291.28,47.2441 \n",
       "  \"/>\n",
       "<polyline clip-path=\"url(#clip2902)\" style=\"stroke:#000000; stroke-width:2; stroke-opacity:0.1; fill:none\" points=\"\n",
       "  180.66,1476.4 2352.76,1476.4 \n",
       "  \"/>\n",
       "<polyline clip-path=\"url(#clip2902)\" style=\"stroke:#000000; stroke-width:2; stroke-opacity:0.1; fill:none\" points=\"\n",
       "  180.66,1089.13 2352.76,1089.13 \n",
       "  \"/>\n",
       "<polyline clip-path=\"url(#clip2902)\" style=\"stroke:#000000; stroke-width:2; stroke-opacity:0.1; fill:none\" points=\"\n",
       "  180.66,701.859 2352.76,701.859 \n",
       "  \"/>\n",
       "<polyline clip-path=\"url(#clip2902)\" style=\"stroke:#000000; stroke-width:2; stroke-opacity:0.1; fill:none\" points=\"\n",
       "  180.66,314.59 2352.76,314.59 \n",
       "  \"/>\n",
       "<polyline clip-path=\"url(#clip2900)\" style=\"stroke:#000000; stroke-width:4; stroke-opacity:1; fill:none\" points=\"\n",
       "  180.66,1487.47 2352.76,1487.47 \n",
       "  \"/>\n",
       "<polyline clip-path=\"url(#clip2900)\" style=\"stroke:#000000; stroke-width:4; stroke-opacity:1; fill:none\" points=\"\n",
       "  180.66,1487.47 180.66,47.2441 \n",
       "  \"/>\n",
       "<polyline clip-path=\"url(#clip2900)\" style=\"stroke:#000000; stroke-width:4; stroke-opacity:1; fill:none\" points=\"\n",
       "  242.135,1487.47 242.135,1465.87 \n",
       "  \"/>\n",
       "<polyline clip-path=\"url(#clip2900)\" style=\"stroke:#000000; stroke-width:4; stroke-opacity:1; fill:none\" points=\"\n",
       "  754.421,1487.47 754.421,1465.87 \n",
       "  \"/>\n",
       "<polyline clip-path=\"url(#clip2900)\" style=\"stroke:#000000; stroke-width:4; stroke-opacity:1; fill:none\" points=\"\n",
       "  1266.71,1487.47 1266.71,1465.87 \n",
       "  \"/>\n",
       "<polyline clip-path=\"url(#clip2900)\" style=\"stroke:#000000; stroke-width:4; stroke-opacity:1; fill:none\" points=\"\n",
       "  1778.99,1487.47 1778.99,1465.87 \n",
       "  \"/>\n",
       "<polyline clip-path=\"url(#clip2900)\" style=\"stroke:#000000; stroke-width:4; stroke-opacity:1; fill:none\" points=\"\n",
       "  2291.28,1487.47 2291.28,1465.87 \n",
       "  \"/>\n",
       "<polyline clip-path=\"url(#clip2900)\" style=\"stroke:#000000; stroke-width:4; stroke-opacity:1; fill:none\" points=\"\n",
       "  180.66,1476.4 213.242,1476.4 \n",
       "  \"/>\n",
       "<polyline clip-path=\"url(#clip2900)\" style=\"stroke:#000000; stroke-width:4; stroke-opacity:1; fill:none\" points=\"\n",
       "  180.66,1089.13 213.242,1089.13 \n",
       "  \"/>\n",
       "<polyline clip-path=\"url(#clip2900)\" style=\"stroke:#000000; stroke-width:4; stroke-opacity:1; fill:none\" points=\"\n",
       "  180.66,701.859 213.242,701.859 \n",
       "  \"/>\n",
       "<polyline clip-path=\"url(#clip2900)\" style=\"stroke:#000000; stroke-width:4; stroke-opacity:1; fill:none\" points=\"\n",
       "  180.66,314.59 213.242,314.59 \n",
       "  \"/>\n",
       "<g clip-path=\"url(#clip2900)\">\n",
       "<text style=\"fill:#000000; fill-opacity:1; font-family:Arial,Helvetica Neue,Helvetica,sans-serif; font-size:48px; text-anchor:middle;\" transform=\"rotate(0, 242.135, 1541.47)\" x=\"242.135\" y=\"1541.47\">0.0000</text>\n",
       "</g>\n",
       "<g clip-path=\"url(#clip2900)\">\n",
       "<text style=\"fill:#000000; fill-opacity:1; font-family:Arial,Helvetica Neue,Helvetica,sans-serif; font-size:48px; text-anchor:middle;\" transform=\"rotate(0, 754.421, 1541.47)\" x=\"754.421\" y=\"1541.47\">0.0025</text>\n",
       "</g>\n",
       "<g clip-path=\"url(#clip2900)\">\n",
       "<text style=\"fill:#000000; fill-opacity:1; font-family:Arial,Helvetica Neue,Helvetica,sans-serif; font-size:48px; text-anchor:middle;\" transform=\"rotate(0, 1266.71, 1541.47)\" x=\"1266.71\" y=\"1541.47\">0.0050</text>\n",
       "</g>\n",
       "<g clip-path=\"url(#clip2900)\">\n",
       "<text style=\"fill:#000000; fill-opacity:1; font-family:Arial,Helvetica Neue,Helvetica,sans-serif; font-size:48px; text-anchor:middle;\" transform=\"rotate(0, 1778.99, 1541.47)\" x=\"1778.99\" y=\"1541.47\">0.0075</text>\n",
       "</g>\n",
       "<g clip-path=\"url(#clip2900)\">\n",
       "<text style=\"fill:#000000; fill-opacity:1; font-family:Arial,Helvetica Neue,Helvetica,sans-serif; font-size:48px; text-anchor:middle;\" transform=\"rotate(0, 2291.28, 1541.47)\" x=\"2291.28\" y=\"1541.47\">0.0100</text>\n",
       "</g>\n",
       "<g clip-path=\"url(#clip2900)\">\n",
       "<text style=\"fill:#000000; fill-opacity:1; font-family:Arial,Helvetica Neue,Helvetica,sans-serif; font-size:48px; text-anchor:end;\" transform=\"rotate(0, 156.66, 1493.9)\" x=\"156.66\" y=\"1493.9\">2.10</text>\n",
       "</g>\n",
       "<g clip-path=\"url(#clip2900)\">\n",
       "<text style=\"fill:#000000; fill-opacity:1; font-family:Arial,Helvetica Neue,Helvetica,sans-serif; font-size:48px; text-anchor:end;\" transform=\"rotate(0, 156.66, 1106.63)\" x=\"156.66\" y=\"1106.63\">2.15</text>\n",
       "</g>\n",
       "<g clip-path=\"url(#clip2900)\">\n",
       "<text style=\"fill:#000000; fill-opacity:1; font-family:Arial,Helvetica Neue,Helvetica,sans-serif; font-size:48px; text-anchor:end;\" transform=\"rotate(0, 156.66, 719.359)\" x=\"156.66\" y=\"719.359\">2.20</text>\n",
       "</g>\n",
       "<g clip-path=\"url(#clip2900)\">\n",
       "<text style=\"fill:#000000; fill-opacity:1; font-family:Arial,Helvetica Neue,Helvetica,sans-serif; font-size:48px; text-anchor:end;\" transform=\"rotate(0, 156.66, 332.09)\" x=\"156.66\" y=\"332.09\">2.25</text>\n",
       "</g>\n",
       "<polyline clip-path=\"url(#clip2902)\" style=\"stroke:#009af9; stroke-width:4; stroke-opacity:1; fill:none\" points=\"\n",
       "  242.135,122.67 447.049,120.376 651.964,117.787 856.879,114.918 1061.79,111.78 1266.71,108.388 1471.62,104.752 1676.54,100.886 1881.45,96.7984 2086.37,92.5016 \n",
       "  2291.28,88.0053 \n",
       "  \"/>\n",
       "<polyline clip-path=\"url(#clip2902)\" style=\"stroke:#e26f46; stroke-width:4; stroke-opacity:1; fill:none\" points=\"\n",
       "  242.135,1446.71 447.049,1432.09 651.964,1417.29 856.879,1402.32 1061.79,1387.2 1266.71,1371.94 1471.62,1356.55 1676.54,1341.04 1881.45,1325.42 2086.37,1309.7 \n",
       "  2291.28,1293.9 \n",
       "  \"/>\n",
       "<path clip-path=\"url(#clip2900)\" d=\"\n",
       "M1989.93 312.204 L2280.76 312.204 L2280.76 130.764 L1989.93 130.764  Z\n",
       "  \" fill=\"#ffffff\" fill-rule=\"evenodd\" fill-opacity=\"1\"/>\n",
       "<polyline clip-path=\"url(#clip2900)\" style=\"stroke:#000000; stroke-width:4; stroke-opacity:1; fill:none\" points=\"\n",
       "  1989.93,312.204 2280.76,312.204 2280.76,130.764 1989.93,130.764 1989.93,312.204 \n",
       "  \"/>\n",
       "<polyline clip-path=\"url(#clip2900)\" style=\"stroke:#009af9; stroke-width:4; stroke-opacity:1; fill:none\" points=\"\n",
       "  2013.93,191.244 2157.93,191.244 \n",
       "  \"/>\n",
       "<g clip-path=\"url(#clip2900)\">\n",
       "<text style=\"fill:#000000; fill-opacity:1; font-family:Arial,Helvetica Neue,Helvetica,sans-serif; font-size:48px; text-anchor:start;\" transform=\"rotate(0, 2181.93, 208.744)\" x=\"2181.93\" y=\"208.744\">y1</text>\n",
       "</g>\n",
       "<polyline clip-path=\"url(#clip2900)\" style=\"stroke:#e26f46; stroke-width:4; stroke-opacity:1; fill:none\" points=\"\n",
       "  2013.93,251.724 2157.93,251.724 \n",
       "  \"/>\n",
       "<g clip-path=\"url(#clip2900)\">\n",
       "<text style=\"fill:#000000; fill-opacity:1; font-family:Arial,Helvetica Neue,Helvetica,sans-serif; font-size:48px; text-anchor:start;\" transform=\"rotate(0, 2181.93, 269.224)\" x=\"2181.93\" y=\"269.224\">y2</text>\n",
       "</g>\n",
       "</svg>\n"
      ]
     },
     "execution_count": 47,
     "metadata": {},
     "output_type": "execute_result"
    }
   ],
   "source": [
    "# L2 Loss\n",
    "loss_L2 = 1/n*QuadLoss()\n",
    "# Quad Regularizer\n",
    "# reg = λ*QuadReg()\n",
    "# reg = ZeroReg()\n",
    "\n",
    "train_MSE_array = Float64[]\n",
    "test_MSE_array = Float64[]\n",
    "λs = 0:.001:0.01\n",
    "\n",
    "for λ in λs\n",
    "    print(λ)\n",
    "    reg = QuadReg(λ)\n",
    "    w_L2 = proxgrad(loss_L2, reg, train_vals_real, train_y, maxiters=1000)\n",
    "    train_pred = train_vals_real*w_L2\n",
    "    test_pred = test_vals_real*w_L2\n",
    "    train_MSE = MSE(train_pred,train_y)\n",
    "    test_MSE = MSE(test_pred,test_y)\n",
    "    push!(train_MSE_array,train_MSE)\n",
    "    push!(test_MSE_array,test_MSE)\n",
    "end\n",
    "println(\"\")\n",
    "println(\"Min Train MSE:\\t\", minimum(train_MSE_array))\n",
    "println(\"Min Test MSE: \\t\", minimum(test_MSE_array))\n",
    "println(\"Optimal λ: \\t\", λs[argmin(test_MSE_array)])\n",
    "plot(λs,train_MSE_array)\n",
    "plot!(λs,test_MSE_array)"
   ]
  },
  {
   "cell_type": "code",
   "execution_count": 48,
   "metadata": {},
   "outputs": [
    {
     "name": "stdout",
     "output_type": "stream",
     "text": [
      "Train MSE:\t99.45508830223834\n",
      "Test MSE: \t83.10100654600777\n"
     ]
    }
   ],
   "source": [
    "# loss_L2 = 1/n*QuadLoss()\n",
    "# loss_L2 = BvSLoss(5, bin_loss=LogisticLoss()\n",
    "loss_L2 = BvSLoss(5)\n",
    "# Quad Regularizer\n",
    "reg = NonNegConstraint()\n",
    "\n",
    "w_L2 = proxgrad(loss_L2, reg, train_vals_real, Int.(train_y), maxiters=600)\n",
    "train_pred = train_vals_real*w_L2\n",
    "test_pred = test_vals_real*w_L2\n",
    "train_MSE = MSE(train_pred,train_y)\n",
    "test_MSE = MSE(test_pred,test_y)\n",
    "\n",
    "println(\"Train MSE:\\t\", train_MSE)\n",
    "println(\"Test MSE: \\t\", test_MSE)"
   ]
  },
  {
   "cell_type": "code",
   "execution_count": 27,
   "metadata": {},
   "outputs": [
    {
     "data": {
      "text/plain": [
       "22673-element Array{Float64,1}:\n",
       "  7.0\n",
       " 10.0\n",
       "  9.0\n",
       "  8.0\n",
       "  4.0\n",
       "  9.0\n",
       "  5.0\n",
       "  9.0\n",
       "  8.0\n",
       " 10.0\n",
       "  9.0\n",
       "  7.0\n",
       "  8.0\n",
       "  ⋮  \n",
       "  1.0\n",
       "  1.0\n",
       "  1.0\n",
       "  1.0\n",
       "  2.0\n",
       "  1.0\n",
       "  1.0\n",
       "  1.0\n",
       "  1.0\n",
       " 10.0\n",
       "  6.0\n",
       "  1.0"
      ]
     },
     "execution_count": 27,
     "metadata": {},
     "output_type": "execute_result"
    }
   ],
   "source": [
    "train_y"
   ]
  }
 ],
 "metadata": {
  "kernelspec": {
   "display_name": "Julia 1.2.0",
   "language": "julia",
   "name": "julia-1.2"
  },
  "language_info": {
   "file_extension": ".jl",
   "mimetype": "application/julia",
   "name": "julia",
   "version": "1.2.0"
  }
 },
 "nbformat": 4,
 "nbformat_minor": 2
}
